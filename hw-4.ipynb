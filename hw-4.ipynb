{
 "cells": [
  {
   "cell_type": "code",
   "execution_count": 56,
   "metadata": {},
   "outputs": [
    {
     "name": "stdout",
     "output_type": "stream",
     "text": [
      "Iterations: 18\n",
      "Iterations: 18\n",
      "Root 1 = 1.040869\n",
      "Root 2 = 1.969030\n"
     ]
    },
    {
     "data": {
      "image/png": "[encoded data removed]",
      "text/plain": [
       "<Figure size 432x288 with 1 Axes>"
      ]
     },
     "metadata": {
      "needs_background": "light"
     },
     "output_type": "display_data"
    }
   ],
   "source": [
    "import numpy as num              #imports numpy library\n",
    "import matplotlib.pyplot as plot #imports Matplotlib's pyplot library\n",
    "\n",
    "def roots_function(x): #defines function with roots\n",
    "    a = 1.01;  #initializes a of quadratic function\n",
    "    b = -3.04; #initializes b of quadratic function\n",
    "    c = 2.07;  #initializes c of quadratic function\n",
    "    return a * x ** 2 + b * x + c; #returns result of function\n",
    "\n",
    "def check_initial_values(func, x_min, x_max, tolr): #defines checker function for initial values of x\n",
    "    y_min = func(x_min); #acquires result of function with x as x_min\n",
    "    y_max = func(x_max); #acquires result of function with x as x_max \n",
    "    \n",
    "    if(y_min * y_max >= 0.0):                                          #if results don't cross zero\n",
    "        print(\"No zero crossing found in range: \", x_min, x_max);      #prints error message\n",
    "        sum = \"f(%f) = %f, f(%f) = %f\" % (x_min, y_min, x_max, y_max); #initializes message with function results\n",
    "        print(sum);                                                    #prints function results\n",
    "        return 0;                                                      #returns flag 0\n",
    "    \n",
    "    if(num.fabs(y_min) < tolr): #if absolute value of y_min is less than tolerance\n",
    "        return 1;               #returns flag 1\n",
    "    \n",
    "    if(num.fabs(y_max) < tolr): #if absolute value of y_max is less than tolerance\n",
    "        return 2;               #returns flag 2\n",
    "    \n",
    "    return 3; #returns flag 3\n",
    "\n",
    "def bisection_root_search(func, x_min_start, x_max_start, tolr): #defines bisection search function\n",
    "    x_min = x_min_start; #stores x_min_start\n",
    "    x_max = x_max_start; #stores x_max_start\n",
    "    x_mid = 0.0;         #initializes x_mid\n",
    "    \n",
    "    y_min = func(x_min); #acquires result of function with x as x_min \n",
    "    y_max = func(x_max); #acquires result of function with x as x_max\n",
    "    y_mid = 0.0;         #initializes y_mid\n",
    "    \n",
    "    max = 10000; #initializes maximum iterations\n",
    "    i = 0;       #initializes iteration value\n",
    "    \n",
    "    flag = check_initial_values(func, x_min, x_max, tolr);        #acquires flag value\n",
    "    if(flag == 0):                                                #if flag is 0\n",
    "        print(\"Error in bisection_root_search()\");                #prints error message\n",
    "        raise ValueError('Initial values invalid', x_min, x_max); #throws a ValueError\n",
    "    elif(flag == 1):                                              #else if flag is 1\n",
    "        return x_min;                                             #returns x_min\n",
    "    elif(flag == 2):                                              #else if flag is 2\n",
    "        return x_max;                                             #returns x_max\n",
    "    \n",
    "    flag = 1;    #sets flag to 1\n",
    "    while(flag): #while flag is 1\n",
    "        x_mid = 0.5 * (x_min + x_max); #calculates x_mid\n",
    "        y_mid = func(x_mid);           #calculates y_mid\n",
    "        \n",
    "        if(num.fabs(y_mid) < tolr):            #if absolute value of y_mid is less than tolerance\n",
    "            flag = 0;                          #sets flag to 0\n",
    "        else:                                  #else\n",
    "            if(func(x_min) * func(x_mid) > 0): #if product of mid and end functions is greater than zero\n",
    "                x_min = x_mid;                 #sets x_min to x_mid\n",
    "            else:                              #else\n",
    "                x_max = x_mid;                 #sets x_max to x_mid\n",
    "                \n",
    "        i += 1; #increments i by 1\n",
    "        if(i >= max):                                                  #if i is greater than max iterations\n",
    "            print(\"Exceeded maximum number of iterations: \", i);       #prints error message\n",
    "            sum = \"Minimum bracket f(%f) = %f\" % (x_min, func(x_min)); #initializes message with min function\n",
    "            print(sum);                                                #prints min function\n",
    "            sum = \"Maximum bracket f(%f) = %f\" % (x_max, func(x_max)); #initializes message with max function\n",
    "            print(sum);                                                #prints max function\n",
    "            sum = \"Middle bracket f(%f) = %f\" % (x_mid, func(x_mid));  #initializes message with mid function\n",
    "            print(sum);                                                #prints mid function\n",
    "            raise StopIteration('Stopping iterations after ', i);      #throws StopIteration\n",
    "         \n",
    "    print(\"Iterations: %d\" % (i)); #prints total number of iterations\n",
    "    return x_mid;                  #returns x_mid\n",
    "\n",
    "x_min = 0.0;  #initializes minimum x-value\n",
    "x_max = 1.5;  #initializes maximum x-value\n",
    "tol = 1.0e-6; #initializes tolerance\n",
    "\n",
    "plot.axhline(y = 0, color = 'k'); #plots x-axis\n",
    "plot.plot(x, roots_function(x));  #plots function\n",
    "\n",
    "x1_root = bisection_root_search(roots_function, x_min, x_max, tol); #bisection search for first root\n",
    "plot.plot(x_min, roots_function(x_min), 'ro');                      #plots lower bracket\n",
    "plot.plot(x_max, roots_function(x_max), 'yo');                      #plots middle bracket\n",
    "\n",
    "x_min = 1.5; #initializes minimum x-value to 1.5\n",
    "x_max = 3.0; #initializes maximum x-value to 3.0\n",
    "\n",
    "x2_root = bisection_root_search(roots_function, x_min, x_max, tol); #bisection search for second root\n",
    "plot.plot(x_max, roots_function(x_max), 'co');                      #plots upper bracket\n",
    "\n",
    "print(\"Root 1 = %f\" % (x1_root)); #prints first root\n",
    "print(\"Root 2 = %f\" % (x2_root)); #prints second root\n",
    "\n",
    "x = num.linspace(0, 3, 1000);     #declares array from 0 to 3 with 1000 values\n",
    "\n",
    "plot.xlim(0, 3);                  #sets x-axis range from 0 to 3\n",
    "plot.ylim(-0.5, 2.1);             #sets y-axis range from -0.5 to 2.1\n",
    "plot.plot(x1_root, 0, 'bo');      #plots first root\n",
    "plot.plot(x2_root, 0, 'go');      #plots second root"
   ]
  }
 ],
 "metadata": {
  "kernelspec": {
   "display_name": "Python 3",
   "language": "python",
   "name": "python3"
  },
  "language_info": {
   "codemirror_mode": {
    "name": "ipython",
    "version": 3
   },
   "file_extension": ".py",
   "mimetype": "text/x-python",
   "name": "python",
   "nbconvert_exporter": "python",
   "pygments_lexer": "ipython3",
   "version": "3.8.5"
  }
 },
 "nbformat": 4,
 "nbformat_minor": 4
}
